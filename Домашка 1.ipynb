{
 "cells": [
  {
   "cell_type": "markdown",
   "id": "047e5c3c",
   "metadata": {},
   "source": [
    "# Практическое задание 1"
   ]
  },
  {
   "cell_type": "markdown",
   "id": "ad865b50",
   "metadata": {},
   "source": [
    "1. Исследуйте на линейную зависимость:\n",
    "𝑓1(𝑥)=𝑒^𝑥,𝑓2(𝑥)=1,𝑓3(𝑥)=𝑥+1,𝑓4(𝑥)=𝑥−𝑒^𝑥."
   ]
  },
  {
   "cell_type": "markdown",
   "id": "17d1e43d",
   "metadata": {},
   "source": [
    " выразив одну функцию через другую, получаем:\n",
    "        𝑓4(𝑥)=𝑓3(𝑥)-𝑓2(𝑥)-𝑓1(𝑥)\n",
    "вектор 𝑓4(𝑥) — линейная комбинация векторов 𝑓1(𝑥) 𝑓2(𝑥), 𝑓3(𝑥) --> значит вектора 𝑓1(𝑥)=𝑒^𝑥,𝑓2(𝑥)=1,𝑓3(𝑥)=𝑥+1,𝑓4(𝑥)=𝑥−𝑒^𝑥 линейно зависимы"
   ]
  },
  {
   "cell_type": "markdown",
   "id": "fbad5917",
   "metadata": {},
   "source": [
    "2. Исследуйте на линейную зависимость:\n",
    "𝑓1(𝑥)=2,𝑓2(𝑥)=𝑥,𝑓3(𝑥)=𝑥^2,𝑓4(𝑥)=(𝑥+1)^2"
   ]
  },
  {
   "cell_type": "markdown",
   "id": "088356d4",
   "metadata": {},
   "source": [
    "также выражаем одну функцию через другую и опять получаем линейную зависимость:\n",
    "        𝑓4(𝑥)=𝑓3(𝑥)+2𝑓2(𝑥)+0,5𝑓1(𝑥)"
   ]
  },
  {
   "cell_type": "markdown",
   "id": "34d64c6a",
   "metadata": {},
   "source": [
    "3. Найдите координаты вектора  𝑥=(2,3,5)∈ℝ3  в базисе  𝑏1=(0,0,10) ,  𝑏2=(2,0,0) ,  𝑏3=(0,1,0) ."
   ]
  },
  {
   "cell_type": "markdown",
   "id": "4d8dd21c",
   "metadata": {},
   "source": [
    "x=(2,3,5)=(2,0,0)+(0,3,0)+(0,0,5)=1*(2,0,0)+3*(0,1,0)+0,5*(0,0,10)=0,5*b1+1*b2+3*b3=(0.5,1,3)"
   ]
  },
  {
   "cell_type": "markdown",
   "id": "fe994a82",
   "metadata": {},
   "source": [
    "4. Найдите координаты вектора  3𝑥2−2𝑥+2∈ℝ3[𝑥] :\n",
    "а) в базисе  1 ,  𝑥 ,  𝑥^2 ;\n",
    "б) в базисе  𝑥^2 ,  𝑥−1 ,  1 ."
   ]
  },
  {
   "cell_type": "markdown",
   "id": "29073780",
   "metadata": {},
   "source": [
    "В базисе 1, x, x^2 координаты будут (2,-2,3)\n",
    "В базисе x^2,x-1,1 приведем вектор: 3x^2-2x+2=3x^2-2(x-1), координаты будут (3,-2,0)"
   ]
  },
  {
   "cell_type": "markdown",
   "id": "bf561243",
   "metadata": {},
   "source": [
    "5. Установите, считается ли линейным подпространством:\n",
    "\n",
    "а) совокупность всех векторов трёхмерного пространства, у которых по крайней мере одна из первых двух координат равна нулю;\n",
    "\n",
    "б) все векторы, считающиеся линейными комбинациями данных векторов  {𝑢1,𝑢2…,𝑢𝑛} ."
   ]
  },
  {
   "cell_type": "markdown",
   "id": "f81b0e42",
   "metadata": {},
   "source": [
    "а)Например, a=(0,f2,f3) и b=(u1,0,u3)\n",
    "Сумма данных векторов a+b=(u1f2,f3+u3)\n",
    "Ни одна из двух первых координат не равна 0, значит данная совокупность векторов не является линейным подпространством"
   ]
  },
  {
   "cell_type": "markdown",
   "id": "cddb8e36",
   "metadata": {},
   "source": [
    "b) Возьмем 2 вектора: a=u1+3u2+5u3 b b=2u4+4u5+6u6\n",
    "Сумма данных векторов a+b=(u1+3u2+5u3+2u4+4u5+6u6)\n",
    "Умножим вектор a на скаляр К. К=3\n",
    "3*a=3u1+9u2+15u3\n",
    "Данная совокупность векторов является линейным подпространством"
   ]
  },
  {
   "cell_type": "markdown",
   "id": "8d3690d1",
   "metadata": {},
   "source": [
    "# Практическое задание 2"
   ]
  },
  {
   "cell_type": "markdown",
   "id": "1c0ad483",
   "metadata": {},
   "source": [
    "1. Найдите скалярное произведение векторов  𝑥,𝑦∈ℝ :\n",
    "а)  𝑥=(0,−3,6), 𝑦=(−4,7,9); \n",
    "б)  𝑥=(7,−4,0,1), 𝑦=(−3,1,11,2)."
   ]
  },
  {
   "cell_type": "code",
   "execution_count": 5,
   "id": "141a638e",
   "metadata": {},
   "outputs": [
    {
     "data": {
      "text/plain": [
       "33"
      ]
     },
     "execution_count": 5,
     "metadata": {},
     "output_type": "execute_result"
    }
   ],
   "source": [
    "import numpy as np\n",
    "result1_1 = np.dot([0,-3,6], [-4, 7, 9])\n",
    "result1_1"
   ]
  },
  {
   "cell_type": "code",
   "execution_count": 4,
   "id": "f4b2da8c",
   "metadata": {},
   "outputs": [
    {
     "data": {
      "text/plain": [
       "-23"
      ]
     },
     "execution_count": 4,
     "metadata": {},
     "output_type": "execute_result"
    }
   ],
   "source": [
    "result1_2 = np.dot([7,-4,0,1], [-3,1,11,2])\n",
    "result1_2"
   ]
  },
  {
   "cell_type": "markdown",
   "id": "df9bbc6e",
   "metadata": {},
   "source": [
    "2. Найдите нормы векторов  (4,2,4)  и  (12,3,4)  и угол между ними."
   ]
  },
  {
   "cell_type": "markdown",
   "id": "e1c0c00b",
   "metadata": {},
   "source": [
    "норма вектора (4,2,4)"
   ]
  },
  {
   "cell_type": "code",
   "execution_count": 6,
   "id": "f7d54e1f",
   "metadata": {},
   "outputs": [
    {
     "data": {
      "text/plain": [
       "6.0"
      ]
     },
     "execution_count": 6,
     "metadata": {},
     "output_type": "execute_result"
    }
   ],
   "source": [
    "a = [4,2,4]\n",
    "result2_1 = np.linalg.norm(a)\n",
    "result2_1"
   ]
  },
  {
   "cell_type": "markdown",
   "id": "47466811",
   "metadata": {},
   "source": [
    "норма вектора (12,3,4)"
   ]
  },
  {
   "cell_type": "code",
   "execution_count": 13,
   "id": "c39b638d",
   "metadata": {},
   "outputs": [
    {
     "data": {
      "text/plain": [
       "13.0"
      ]
     },
     "execution_count": 13,
     "metadata": {},
     "output_type": "execute_result"
    }
   ],
   "source": [
    "b = [12,3,4]\n",
    "result2_2 = np.linalg.norm(a)\n",
    "result2_2"
   ]
  },
  {
   "cell_type": "markdown",
   "id": "ccc1590c",
   "metadata": {},
   "source": [
    "угол между векторами a и b"
   ]
  },
  {
   "cell_type": "code",
   "execution_count": 15,
   "id": "55a58023",
   "metadata": {},
   "outputs": [
    {
     "data": {
      "text/plain": [
       "0.0"
      ]
     },
     "execution_count": 15,
     "metadata": {},
     "output_type": "execute_result"
    }
   ],
   "source": [
    "result2_3 = np.arccos(np.dot(a,b)/(result2_1*result2_2))/np.pi * 180\n",
    "result2_3\n"
   ]
  },
  {
   "cell_type": "markdown",
   "id": "a3f10490",
   "metadata": {},
   "source": [
    "3. Определите, будет ли линейное пространство евклидовым, если за скалярное произведение принять:\n",
    "а) произведение длин векторов;\n",
    "б) утроенное обычное скалярное произведение векторов?"
   ]
  },
  {
   "cell_type": "markdown",
   "id": "ad48f289",
   "metadata": {},
   "source": [
    "Ответ: \n",
    "a) не будет\n",
    "б) будет"
   ]
  },
  {
   "cell_type": "markdown",
   "id": "c4ebda1d",
   "metadata": {},
   "source": [
    "4. Выясните, какие из нижеперечисленных векторов образуют ортонормированный базис в линейном пространстве  ℝ3 :\n",
    "а)  (1,0,0),(0,0,1); \n",
    "б)  (1/2⎯⎯√,−1/2⎯⎯√,0),(1/2⎯⎯√,1/2⎯⎯√,0),(0,0,1); \n",
    "в)  (1/2,−1/2,0),(0,1/2,1/2),(0,0,1); \n",
    "г)  (1,0,0),(0,1,0),(0,0,1)?"
   ]
  },
  {
   "cell_type": "markdown",
   "id": "9c39a418",
   "metadata": {},
   "source": [
    "Ответ:\n",
    "а) нет\n",
    "б) да\n",
    "в) нет\n",
    "г) да"
   ]
  }
 ],
 "metadata": {
  "kernelspec": {
   "display_name": "Python 3 (ipykernel)",
   "language": "python",
   "name": "python3"
  },
  "language_info": {
   "codemirror_mode": {
    "name": "ipython",
    "version": 3
   },
   "file_extension": ".py",
   "mimetype": "text/x-python",
   "name": "python",
   "nbconvert_exporter": "python",
   "pygments_lexer": "ipython3",
   "version": "3.10.4"
  }
 },
 "nbformat": 4,
 "nbformat_minor": 5
}
