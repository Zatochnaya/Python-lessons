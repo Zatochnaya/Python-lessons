{
 "cells": [
  {
   "cell_type": "markdown",
   "id": "dc597ecf",
   "metadata": {},
   "source": [
    "Урок 2.Практическое задание 1"
   ]
  },
  {
   "cell_type": "markdown",
   "id": "c0873372",
   "metadata": {},
   "source": [
    "1. Установите, какие произведения матриц  𝐴𝐵  и  𝐵𝐴  определены, и найдите размерности полученных матриц:\n",
    "\n",
    "а)  𝐴  — матрица  4×2 ,  𝐵  — матрица  4×2 ;\n",
    "\n",
    "б)  𝐴  — матрица  2×5 ,  𝐵  — матрица  5×3 ;\n",
    "\n",
    "в)  𝐴  — матрица  8×3 ,  𝐵  — матрица  3×8 ;\n",
    "\n",
    "г)  𝐴  — квадратная матрица  4×4 ,  𝐵  — квадратная матрица  4×4 ."
   ]
  },
  {
   "cell_type": "markdown",
   "id": "0d913200",
   "metadata": {},
   "source": [
    "Dариант a:\n",
    "\n",
    " A * B = 4 * 2  и 4 * 2\n",
    "\n",
    "  B * A = 4 * 2  и 4 * 2\n",
    "\n",
    "Произведения не определены\n",
    "\n",
    "Вариант б:\n",
    "\n",
    "A * B = 2 * 5  и 5 * 2 , произведение определено, размерность полученной матрицы 2 X 3\n",
    "\n",
    "B * A = 5 * 3  и 2 * 5 , произведение не определено\n",
    "\n",
    "Вариант в:\n",
    "\n",
    " A * B = 8 * 3  и 3 * 8 , произведение определено, размерность полученной матрицы 8 X 8\n",
    "\n",
    " B * A = 3 * 8  и 8 * 3 , произведение определено, размерность полученной матрицы 3 X 3\n",
    "\n",
    "Вариант г:\n",
    "\n",
    "A * B , B * A - оба произведения определены, размерность полученной матрицы 4 X 4"
   ]
  },
  {
   "cell_type": "markdown",
   "id": "305b6c2f",
   "metadata": {},
   "source": [
    "2. Найдите сумму и произведение матриц 𝐴=(1 −2)    𝐵=(4 −1)\n",
    "                                          3  0   и    0  5"
   ]
  },
  {
   "cell_type": "code",
   "execution_count": 1,
   "id": "7bb0daa9",
   "metadata": {},
   "outputs": [],
   "source": [
    "import numpy as np"
   ]
  },
  {
   "cell_type": "code",
   "execution_count": 2,
   "id": "cb1e558f",
   "metadata": {},
   "outputs": [
    {
     "data": {
      "text/plain": [
       "array([[ 5, -3],\n",
       "       [ 3,  5]])"
      ]
     },
     "execution_count": 2,
     "metadata": {},
     "output_type": "execute_result"
    }
   ],
   "source": [
    "a = np.array([[1,-2], [3,0]])\n",
    "b = np.array([[4,-1], [0,5]])\n",
    "result2_1 = a + b\n",
    "result2_1"
   ]
  },
  {
   "cell_type": "code",
   "execution_count": 3,
   "id": "d62b0e91",
   "metadata": {},
   "outputs": [
    {
     "data": {
      "text/plain": [
       "array([[  4, -11],\n",
       "       [ 12,  -3]])"
      ]
     },
     "execution_count": 3,
     "metadata": {},
     "output_type": "execute_result"
    }
   ],
   "source": [
    "result2_2 = np.dot(a, b)\n",
    "result2_2"
   ]
  },
  {
   "cell_type": "markdown",
   "id": "aaf4925b",
   "metadata": {},
   "source": [
    "3. Из закономерностей сложения и умножения матриц на число можно сделать вывод, что матрицы одного размера образуют линейное пространство. Вычислите линейную комбинацию  3𝐴−2𝐵+4𝐶  для матриц  𝐴=(1  7)   𝐵=(0  5)   𝐶=(2  −4)\n",
    "                                                                       3 −6 ,     2 −1  ,    1   1."
   ]
  },
  {
   "cell_type": "code",
   "execution_count": 4,
   "id": "3fea6dcb",
   "metadata": {},
   "outputs": [
    {
     "data": {
      "text/plain": [
       "array([[ 11,  -5],\n",
       "       [  9, -12]])"
      ]
     },
     "execution_count": 4,
     "metadata": {},
     "output_type": "execute_result"
    }
   ],
   "source": [
    "a = np.array([[1,7], [3,-6]])\n",
    "b = np.array([[0,5], [2,-1]])\n",
    "c = np.array([[2,-4], [1,1]])\n",
    "result3 = (3 * a) + (-2 * b) + (4 * c)\n",
    "result3"
   ]
  },
  {
   "cell_type": "markdown",
   "id": "26e1ae1a",
   "metadata": {},
   "source": [
    "4. Дана матрица  𝐴=(4  1\n",
    "                 5 -2\n",
    "                 2  3) . Вычислите  𝐴𝐴^𝑇  и  𝐴^𝑇𝐴 ."
   ]
  },
  {
   "cell_type": "code",
   "execution_count": 5,
   "id": "f2b42a7e",
   "metadata": {},
   "outputs": [
    {
     "data": {
      "text/plain": [
       "array([[ 4,  5,  2],\n",
       "       [ 1, -2,  3]])"
      ]
     },
     "execution_count": 5,
     "metadata": {},
     "output_type": "execute_result"
    }
   ],
   "source": [
    "a = np.array([[4,1], [5,-2], [2,3]])\n",
    "aT = a.T\n",
    "aT"
   ]
  },
  {
   "cell_type": "code",
   "execution_count": 6,
   "id": "dcfcc3b0",
   "metadata": {},
   "outputs": [
    {
     "data": {
      "text/plain": [
       "array([[17, 18, 11],\n",
       "       [18, 29,  4],\n",
       "       [11,  4, 13]])"
      ]
     },
     "execution_count": 6,
     "metadata": {},
     "output_type": "execute_result"
    }
   ],
   "source": [
    "result4_1 = np.dot(a, aT)\n",
    "result4_1"
   ]
  },
  {
   "cell_type": "code",
   "execution_count": 7,
   "id": "74a2bf95",
   "metadata": {},
   "outputs": [
    {
     "data": {
      "text/plain": [
       "array([[45,  0],\n",
       "       [ 0, 14]])"
      ]
     },
     "execution_count": 7,
     "metadata": {},
     "output_type": "execute_result"
    }
   ],
   "source": [
    "result4_2 = np.dot(aT, a)\n",
    "result4_2"
   ]
  },
  {
   "cell_type": "markdown",
   "id": "7969fa70",
   "metadata": {},
   "source": [
    "5*. Написать на Python функцию для перемножения двух произвольных матриц, не используя NumPy."
   ]
  },
  {
   "cell_type": "code",
   "execution_count": 8,
   "id": "66136482",
   "metadata": {},
   "outputs": [],
   "source": [
    "def multiply_matrix(matrix1, matrix2):\n",
    "    if len(matrix1[0]) != len(matrix2):\n",
    "        return ValueError('произведение не определено')\n",
    "    result = [ [0 for j in range(len(matrix2[0]))] for i in range(len(matrix1))]\n",
    "    for i in range(len(matrix1)):\n",
    "        for j in range(len(matrix2[0])):\n",
    "            for k in range(len(matrix2)):\n",
    "                result[i][j] += matrix1[i][k] * matrix2[k][j]\n",
    "    return result"
   ]
  },
  {
   "cell_type": "markdown",
   "id": "79c11097",
   "metadata": {},
   "source": [
    "проверка"
   ]
  },
  {
   "cell_type": "code",
   "execution_count": 9,
   "id": "a4490842",
   "metadata": {},
   "outputs": [
    {
     "name": "stdout",
     "output_type": "stream",
     "text": [
      "Матрица Х:\n",
      " [[ 1 -2]\n",
      " [ 3  0]\n",
      " [ 5  7]]\n",
      "Матрица Y:\n",
      " [[ 4 -1]\n",
      " [ 0  5]]\n",
      "Результат метода NumPy:\n",
      " [[  4 -11]\n",
      " [ 12  -3]\n",
      " [ 20  30]]\n",
      "Результат собственного метода: \n",
      " [[4, -11], [12, -3], [20, 30]]\n"
     ]
    }
   ],
   "source": [
    "x = np.array([[1,-2], [3,0], [5,7]])\n",
    "y = np.array([[4,-1], [0,5]])\n",
    "print(f'Матрица Х:\\n {x}')\n",
    "print(f'Матрица Y:\\n {y}')\n",
    "print(f'Результат метода NumPy:\\n {np.dot(x,y)}')\n",
    "print(f'Результат собственного метода: \\n {multiply_matrix(x,y)}')"
   ]
  },
  {
   "cell_type": "markdown",
   "id": "aaf21d65",
   "metadata": {},
   "source": [
    "Урок 2.Практическое задание 2"
   ]
  },
  {
   "cell_type": "markdown",
   "id": "8385d622",
   "metadata": {},
   "source": [
    "1. Вычислите определитель:\n",
    "a) |sinx  -cosx|\n",
    "    cosx   sinx"
   ]
  },
  {
   "cell_type": "markdown",
   "id": "ccff6b14",
   "metadata": {},
   "source": [
    "det=sinx*sinx-(cosx-cosx)=sin^2x-cos^2x"
   ]
  },
  {
   "cell_type": "markdown",
   "id": "26a36957",
   "metadata": {},
   "source": [
    "б) |4  2  3\n",
    "    0  5  1\n",
    "    0  0  9|"
   ]
  },
  {
   "cell_type": "code",
   "execution_count": 10,
   "id": "0ebc408c",
   "metadata": {},
   "outputs": [
    {
     "data": {
      "text/plain": [
       "180.0"
      ]
     },
     "execution_count": 10,
     "metadata": {},
     "output_type": "execute_result"
    }
   ],
   "source": [
    "a1_2 = np.array([[4,2,3], [0,5,1], [0,0,9]])\n",
    "det1_2 = np.linalg.det(a1_2)\n",
    "det1_2"
   ]
  },
  {
   "cell_type": "markdown",
   "id": "107b1047",
   "metadata": {},
   "source": [
    "в)  |1  2  3\n",
    "     4  5  6\n",
    "     7  8  9|"
   ]
  },
  {
   "cell_type": "code",
   "execution_count": 11,
   "id": "cdb332f2",
   "metadata": {},
   "outputs": [
    {
     "data": {
      "text/plain": [
       "0.0"
      ]
     },
     "execution_count": 11,
     "metadata": {},
     "output_type": "execute_result"
    }
   ],
   "source": [
    "a1_3 = np.array([[1,2,3], [4,5,6], [7,8,9]])\n",
    "det1_3 = np.linalg.det(a1_3)\n",
    "det1_3"
   ]
  },
  {
   "cell_type": "markdown",
   "id": "c9249b7c",
   "metadata": {},
   "source": [
    "2. Определитель матрицы  𝐴  равен  4 . Найдите:\n",
    "\n",
    "а)  𝑑𝑒𝑡(𝐴^2) ;\n",
    "\n",
    "б)  𝑑𝑒𝑡(𝐴^𝑇) ;\n",
    "\n",
    "в)  𝑑𝑒𝑡(2𝐴) .\n"
   ]
  },
  {
   "cell_type": "markdown",
   "id": "c9cd4a6b",
   "metadata": {},
   "source": [
    "a) 𝑑𝑒𝑡(𝐴^2)=det(AA)=det(A)*det(a)=4*4=16\n",
    "b) 𝑑𝑒𝑡(𝐴^𝑇)=det(A)=4\n",
    "в) 𝑑𝑒𝑡(2𝐴)=det(A)*2^n=4*2^n, где  n - кол-во строк в матрице"
   ]
  },
  {
   "cell_type": "markdown",
   "id": "67395706",
   "metadata": {},
   "source": [
    "3. Докажите, что матрица:  \n",
    "    |-2  7 -3\n",
    "      4 14  6\n",
    "     -3  7  13| вырожденная"
   ]
  },
  {
   "cell_type": "code",
   "execution_count": 12,
   "id": "96626c7a",
   "metadata": {},
   "outputs": [
    {
     "data": {
      "text/plain": [
       "0.0"
      ]
     },
     "execution_count": 12,
     "metadata": {},
     "output_type": "execute_result"
    }
   ],
   "source": [
    "a3 = np.array([[-2,7,-3], [4,-14,6], [-3,7,13]])\n",
    "det3 = np.linalg.det(a3)\n",
    "det3"
   ]
  },
  {
   "cell_type": "markdown",
   "id": "cac5767d",
   "metadata": {},
   "source": [
    "определитель матрицы равен нулю, следовательно, матрица вырожденная"
   ]
  },
  {
   "cell_type": "markdown",
   "id": "3d1335f0",
   "metadata": {},
   "source": [
    "4. Найти ранг матрицы:\n",
    "а) |1  2  3\n",
    "    1  1  1\n",
    "    2  3  4|\n",
    "    "
   ]
  },
  {
   "cell_type": "code",
   "execution_count": 13,
   "id": "91b395db",
   "metadata": {},
   "outputs": [
    {
     "data": {
      "text/plain": [
       "2"
      ]
     },
     "execution_count": 13,
     "metadata": {},
     "output_type": "execute_result"
    }
   ],
   "source": [
    "a4_1 = np.array([[1,2,3], [1,1,1], [2,3,4]])\n",
    "result4_1 = np.linalg.matrix_rank(a4_1)\n",
    "result4_1"
   ]
  },
  {
   "cell_type": "markdown",
   "id": "a05224f8",
   "metadata": {},
   "source": [
    "б) |0  0  2  1\n",
    "    0  0  2  2\n",
    "    0  0  4  3\n",
    "    2  3  5  6|"
   ]
  },
  {
   "cell_type": "code",
   "execution_count": 14,
   "id": "99bd2083",
   "metadata": {},
   "outputs": [
    {
     "data": {
      "text/plain": [
       "3"
      ]
     },
     "execution_count": 14,
     "metadata": {},
     "output_type": "execute_result"
    }
   ],
   "source": [
    "a4_2 = np.array([[0,0,2,1], [0,0,2,2], [0,0,4,3], [2,3,5,6]])\n",
    "result4_2 = np.linalg.matrix_rank(a4_2)\n",
    "result4_2"
   ]
  },
  {
   "cell_type": "markdown",
   "id": "5c731cde",
   "metadata": {},
   "source": [
    "Урок 3.Практическое задание "
   ]
  },
  {
   "cell_type": "markdown",
   "id": "113ec721",
   "metadata": {},
   "source": [
    "1. Найти собственные векторы и собственные значения для линейного оператора, заданного матрицей\n",
    " \n",
    " A= (-1  -6\n",
    "      2   6)\n",
    " "
   ]
  },
  {
   "cell_type": "markdown",
   "id": "0133c74f",
   "metadata": {},
   "source": [
    "|-1-L  -6\n",
    "  2    6-L| = 0\n",
    "    \n",
    " (-1-L)*(6-L)- 2*(-6)\n",
    "L^2-5L+6=0\n",
    "D=5^2-4*1*6=1\n",
    "L1=(5+1)/2=3\n",
    "L2=(5-1)/2=2\n",
    "\n",
    "Найдем собственные векторы для  система уравнений будет выглядеть:\n",
    "\n",
    "{-x1-6x^2=2x1\n",
    " 2x1+6x2=2x2\n",
    " \n",
    " Перенеся все в левую часть, получим\n",
    " {3x1-6x2=0\n",
    "  2x1+4x2=0\n",
    "  \n",
    "  {x2=-x1/2\n",
    "   0=0\n",
    "   \n",
    "  Найдем собственные векторы для  система уравнений будет выглядеть:\n",
    "  \n",
    "  {-x1-6x2=0\n",
    "   -2x1+3x2=0\n",
    "   \n",
    " {x2=-2x1/3\n",
    "   0=0"
   ]
  },
  {
   "cell_type": "code",
   "execution_count": 15,
   "id": "aae787d4",
   "metadata": {},
   "outputs": [
    {
     "name": "stdout",
     "output_type": "stream",
     "text": [
      "Матрица A:\n",
      "[[-1 -6]\n",
      " [ 2  6]]\n",
      "Собственные значения:\n",
      "[2. 3.]\n",
      "Собственные векторы:\n",
      "[[-0.89442719  0.83205029]\n",
      " [ 0.4472136  -0.5547002 ]]\n"
     ]
    }
   ],
   "source": [
    "a = np.array([[-1, -6], [2, 6]])\n",
    "w, v = np.linalg.eig(a)\n",
    "\n",
    "print(f'Матрица A:\\n{a}')\n",
    "print(f'Собственные значения:\\n{w}')\n",
    "print(f'Собственные векторы:\\n{v}')"
   ]
  },
  {
   "cell_type": "markdown",
   "id": "f05767a0",
   "metadata": {},
   "source": [
    "2. Дан оператор поворота на 180 градусов, задаваемый матрицей\n",
    "\n",
    " A= (-1   0\n",
    "      0  -1)\n",
    "      \n",
    " Показать, что любой вектор является для него собственным."
   ]
  },
  {
   "cell_type": "markdown",
   "id": "444805b0",
   "metadata": {},
   "source": [
    "|-1-L    0\n",
    "  0    -1-L| = 0\n",
    "    \n",
    "-1*L^2=0\n",
    "L^2+2L+1=0\n",
    "D=2^2-4*1*1=0\n",
    "L=-2/2=-1\n",
    "\n",
    "Найдем собственные векторы вида (x1\n",
    "                                 x2) и система уравнений будет выглядеть:\n",
    "    \n",
    "     (-1   0    (x1   = L (x1\n",
    "      0  -1) *   x2)       x2)\n",
    "        \n",
    "        {1=-1*x1+0*x2=-1*x1\n",
    "         0*x1+(-1)*x2=-1*x2\n",
    "         \n",
    "        {-x1=-x1\n",
    "         -x2=-x2\n",
    "         \n",
    "        {0=0\n",
    "         0=0\n",
    "         \n",
    "Следовательно, любой вектор является для данного оператора поворота будет собственным"
   ]
  },
  {
   "cell_type": "markdown",
   "id": "939c4b9e",
   "metadata": {},
   "source": [
    "3. Пусть линейный оператор задан матрицей\n",
    "\n",
    "A= (1  1\n",
    "   -1  3)\n",
    "Установить, является ли вектор  x= (1,1) собственным вектором этого линейного оператора.\n"
   ]
  },
  {
   "cell_type": "markdown",
   "id": "428a72b5",
   "metadata": {},
   "source": [
    "Предположим, что вектор  является собственным вектором заданного линейного оператора, тогда должно существовать некоторое вещественное число L, при котором\n",
    "\n",
    " (1  1    (1   = L (1\n",
    " -1  3) *  1)       1)\n",
    " \n",
    " Из этого будет следовать, что\n",
    " \n",
    "  {1+1=L   [L=2\n",
    "  -1+3=L    L=2\n",
    "  Следовательно, вектор x= (1,1) является собственным вектором линейного оператора, заданного матрицей A"
   ]
  },
  {
   "cell_type": "markdown",
   "id": "7c5a0e9c",
   "metadata": {},
   "source": [
    "4. Пусть линейный оператор задан матрицей\n",
    "\n",
    "A= (0  3  0\n",
    "    3  0  0\n",
    "    0  0  3)\n",
    "    \n",
    "   Установить, является ли вектор x= (3,-3, -4) собственным вектором этого линейного оператора.\n"
   ]
  },
  {
   "cell_type": "markdown",
   "id": "9a54c952",
   "metadata": {},
   "source": [
    "Предположим, что вектор x является собственным вектором заданного линейного оператора. Тогда получим:\n",
    "    (0  3  0    (3         (3\n",
    "     3  0  0 *  -3   = L   -3\n",
    "     0  0  3)   -4)        -4)\n",
    "    \n",
    "    {L=-3\n",
    "     L=-3\n",
    "     L=3\n",
    "   Такая система не имеет смысла, следовательно, вектор x= (3,-3, -4) не является собственным вектором линейного оператора, заданного матрицей A."
   ]
  }
 ],
 "metadata": {
  "kernelspec": {
   "display_name": "Python 3 (ipykernel)",
   "language": "python",
   "name": "python3"
  },
  "language_info": {
   "codemirror_mode": {
    "name": "ipython",
    "version": 3
   },
   "file_extension": ".py",
   "mimetype": "text/x-python",
   "name": "python",
   "nbconvert_exporter": "python",
   "pygments_lexer": "ipython3",
   "version": "3.10.4"
  }
 },
 "nbformat": 4,
 "nbformat_minor": 5
}
